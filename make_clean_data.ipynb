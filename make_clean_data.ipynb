{
 "cells": [
  {
   "cell_type": "code",
   "execution_count": 1,
   "metadata": {},
   "outputs": [],
   "source": [
    "import urllib.request\n",
    "import requests\n",
    "import re\n",
    "import glob\n",
    "import pandas as pd\n",
    "import os\n",
    "import matplotlib.pyplot as plt \n",
    "from sklearn.linear_model import LinearRegression\n",
    "\n",
    "path = 'C:\\\\Users\\\\user\\\\Desktop\\\\python\\\\'\n",
    "path_data = path + 'betfair_data'\n",
    "clean_data = path + 'clean_data'\n",
    "prices_folder = 'betfair_data'"
   ]
  },
  {
   "cell_type": "code",
   "execution_count": 2,
   "metadata": {},
   "outputs": [
    {
     "name": "stdout",
     "output_type": "stream",
     "text": [
      "done uploading: 0\n",
      "done uploading: 1000\n",
      "done uploading: 2000\n",
      "done uploading: 3000\n",
      "done uploading: 4000\n",
      "done uploading: 5000\n",
      "done uploading: 6000\n",
      "done uploading: 7000\n",
      "done uploading: 8000\n"
     ]
    }
   ],
   "source": [
    "# Load betfair data\n",
    "df = pd.DataFrame()\n",
    "i = 0\n",
    "for filename in glob.glob(os.path.join(path_data, '*.csv')):\n",
    "    if filename.find('uk') >= 0:\n",
    "        if i % 1000 == 0:\n",
    "            print (f'done uploading: {i}')\n",
    "        df = pd.concat([df, pd.read_csv(filename, usecols = [i for i in range(16)])])\n",
    "        i += 1"
   ]
  },
  {
   "cell_type": "code",
   "execution_count": 3,
   "metadata": {},
   "outputs": [],
   "source": [
    "df = df.loc[df_betfair['EVENT_NAME'] != 'TO BE PLACED']\n",
    "df.to_csv(\"betfair_clean.csv\")"
   ]
  },
  {
   "cell_type": "code",
   "execution_count": 4,
   "metadata": {},
   "outputs": [],
   "source": [
    "# Load horse data\n",
    "df2 = pd.DataFrame()\n",
    "for filename in glob.glob(os.path.join(clean_data, '*.xls')):\n",
    "    df2 = pd.concat([df2, pd.read_html(filename)[0]])"
   ]
  },
  {
   "cell_type": "code",
   "execution_count": 5,
   "metadata": {},
   "outputs": [],
   "source": [
    "df2.to_csv(\"horses_clean.csv\")"
   ]
  }
 ],
 "metadata": {
  "kernelspec": {
   "display_name": "Python 3",
   "language": "python",
   "name": "python3"
  },
  "language_info": {
   "codemirror_mode": {
    "name": "ipython",
    "version": 3
   },
   "file_extension": ".py",
   "mimetype": "text/x-python",
   "name": "python",
   "nbconvert_exporter": "python",
   "pygments_lexer": "ipython3",
   "version": "3.7.4"
  }
 },
 "nbformat": 4,
 "nbformat_minor": 2
}
