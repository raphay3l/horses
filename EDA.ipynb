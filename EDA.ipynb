{
 "cells": [
  {
   "cell_type": "code",
   "execution_count": 4,
   "metadata": {},
   "outputs": [],
   "source": [
    "import pandas as pd\n",
    "import numpy as np\n",
    "import os\n",
    "import matplotlib.pyplot as plt \n",
    "from sklearn.linear_model import LinearRegression"
   ]
  },
  {
   "cell_type": "code",
   "execution_count": 5,
   "metadata": {},
   "outputs": [],
   "source": [
    "path = 'C:\\\\Users\\\\user\\\\Desktop\\\\python\\\\'"
   ]
  },
  {
   "cell_type": "code",
   "execution_count": 6,
   "metadata": {},
   "outputs": [],
   "source": [
    "df_betfair = pd.read_csv(path + 'betfair_clean.csv')\n",
    "df_betfair.EVENT_DT = pd.to_datetime(df_betfair.EVENT_DT).dt.normalize()"
   ]
  },
  {
   "cell_type": "code",
   "execution_count": 7,
   "metadata": {},
   "outputs": [
    {
     "name": "stderr",
     "output_type": "stream",
     "text": [
      "C:\\Users\\user\\Anaconda3\\lib\\site-packages\\IPython\\core\\interactiveshell.py:3058: DtypeWarning: Columns (17,25,27) have mixed types. Specify dtype option on import or set low_memory=False.\n",
      "  interactivity=interactivity, compiler=compiler, result=result)\n"
     ]
    }
   ],
   "source": [
    "columns = ['Date','Country','Track','Going','Type','Distance','Class','Time','Stall','Horse','OR','Age','Pace','Weight',\n",
    "'Jockey','Trainer','Head Gear','SP Fav','Industry SP','Betfair SP','IP Min','IP Max','Pre Min','Pre Max',\n",
    "'Pred Industry SP','Place','Winning Distance','Runners','SP Win Return','E/W return','BF Win Return','minus',\n",
    "'plus','percentage_minus','percentage_plus']\n",
    "\n",
    "df = pd.read_csv(path + 'horses_clean.csv', index_col = 0)\n",
    "df.columns = columns"
   ]
  },
  {
   "cell_type": "code",
   "execution_count": 8,
   "metadata": {
    "scrolled": false
   },
   "outputs": [
    {
     "data": {
      "text/html": [
       "<div>\n",
       "<style scoped>\n",
       "    .dataframe tbody tr th:only-of-type {\n",
       "        vertical-align: middle;\n",
       "    }\n",
       "\n",
       "    .dataframe tbody tr th {\n",
       "        vertical-align: top;\n",
       "    }\n",
       "\n",
       "    .dataframe thead th {\n",
       "        text-align: right;\n",
       "    }\n",
       "</style>\n",
       "<table border=\"1\" class=\"dataframe\">\n",
       "  <thead>\n",
       "    <tr style=\"text-align: right;\">\n",
       "      <th></th>\n",
       "      <th>0</th>\n",
       "      <th>1</th>\n",
       "      <th>2</th>\n",
       "      <th>3</th>\n",
       "      <th>4</th>\n",
       "    </tr>\n",
       "  </thead>\n",
       "  <tbody>\n",
       "    <tr>\n",
       "      <td>Date</td>\n",
       "      <td>2010-02-20</td>\n",
       "      <td>2010-02-20</td>\n",
       "      <td>2010-02-20</td>\n",
       "      <td>2010-02-20</td>\n",
       "      <td>2010-02-20</td>\n",
       "    </tr>\n",
       "    <tr>\n",
       "      <td>Country</td>\n",
       "      <td>GB</td>\n",
       "      <td>GB</td>\n",
       "      <td>GB</td>\n",
       "      <td>GB</td>\n",
       "      <td>GB</td>\n",
       "    </tr>\n",
       "    <tr>\n",
       "      <td>Track</td>\n",
       "      <td>ASCOT</td>\n",
       "      <td>ASCOT</td>\n",
       "      <td>ASCOT</td>\n",
       "      <td>ASCOT</td>\n",
       "      <td>ASCOT</td>\n",
       "    </tr>\n",
       "    <tr>\n",
       "      <td>Going</td>\n",
       "      <td>GTS</td>\n",
       "      <td>GTS</td>\n",
       "      <td>GTS</td>\n",
       "      <td>GTS</td>\n",
       "      <td>GTS</td>\n",
       "    </tr>\n",
       "    <tr>\n",
       "      <td>Type</td>\n",
       "      <td>Hurdle</td>\n",
       "      <td>Hurdle</td>\n",
       "      <td>Hurdle</td>\n",
       "      <td>Hurdle</td>\n",
       "      <td>Hurdle</td>\n",
       "    </tr>\n",
       "    <tr>\n",
       "      <td>Distance</td>\n",
       "      <td>2m3½f</td>\n",
       "      <td>2m3½f</td>\n",
       "      <td>2m3½f</td>\n",
       "      <td>2m3½f</td>\n",
       "      <td>2m3½f</td>\n",
       "    </tr>\n",
       "    <tr>\n",
       "      <td>Class</td>\n",
       "      <td>3</td>\n",
       "      <td>3</td>\n",
       "      <td>3</td>\n",
       "      <td>3</td>\n",
       "      <td>3</td>\n",
       "    </tr>\n",
       "    <tr>\n",
       "      <td>Time</td>\n",
       "      <td>1:40pm</td>\n",
       "      <td>1:40pm</td>\n",
       "      <td>1:40pm</td>\n",
       "      <td>1:40pm</td>\n",
       "      <td>1:40pm</td>\n",
       "    </tr>\n",
       "    <tr>\n",
       "      <td>Stall</td>\n",
       "      <td>NaN</td>\n",
       "      <td>NaN</td>\n",
       "      <td>NaN</td>\n",
       "      <td>NaN</td>\n",
       "      <td>NaN</td>\n",
       "    </tr>\n",
       "    <tr>\n",
       "      <td>Horse</td>\n",
       "      <td>FINIANS RAINBOW</td>\n",
       "      <td>SERETH</td>\n",
       "      <td>SPIRIT OF ADJISA</td>\n",
       "      <td>ARKOSE</td>\n",
       "      <td>PRIORS GLEN</td>\n",
       "    </tr>\n",
       "    <tr>\n",
       "      <td>OR</td>\n",
       "      <td>0</td>\n",
       "      <td>0</td>\n",
       "      <td>0</td>\n",
       "      <td>0</td>\n",
       "      <td>0</td>\n",
       "    </tr>\n",
       "    <tr>\n",
       "      <td>Age</td>\n",
       "      <td>7</td>\n",
       "      <td>7</td>\n",
       "      <td>6</td>\n",
       "      <td>6</td>\n",
       "      <td>6</td>\n",
       "    </tr>\n",
       "    <tr>\n",
       "      <td>Pace</td>\n",
       "      <td>NaN</td>\n",
       "      <td>NaN</td>\n",
       "      <td>NaN</td>\n",
       "      <td>NaN</td>\n",
       "      <td>NaN</td>\n",
       "    </tr>\n",
       "    <tr>\n",
       "      <td>Weight</td>\n",
       "      <td>11-8</td>\n",
       "      <td>11-5</td>\n",
       "      <td>11-0</td>\n",
       "      <td>11-5</td>\n",
       "      <td>11-0</td>\n",
       "    </tr>\n",
       "    <tr>\n",
       "      <td>Jockey</td>\n",
       "      <td>Barry Geraghty</td>\n",
       "      <td>Paul Moloney</td>\n",
       "      <td>Robert Thornton</td>\n",
       "      <td>Leighton Aspell</td>\n",
       "      <td>R Walsh</td>\n",
       "    </tr>\n",
       "    <tr>\n",
       "      <td>Trainer</td>\n",
       "      <td>Nicky Henderson</td>\n",
       "      <td>Barney Curley</td>\n",
       "      <td>Alan King</td>\n",
       "      <td>Oliver Sherwood</td>\n",
       "      <td>Emma Lavelle</td>\n",
       "    </tr>\n",
       "    <tr>\n",
       "      <td>Head Gear</td>\n",
       "      <td>NaN</td>\n",
       "      <td>NaN</td>\n",
       "      <td>NaN</td>\n",
       "      <td>NaN</td>\n",
       "      <td>NaN</td>\n",
       "    </tr>\n",
       "    <tr>\n",
       "      <td>SP Fav</td>\n",
       "      <td>1</td>\n",
       "      <td>2</td>\n",
       "      <td>3</td>\n",
       "      <td>4</td>\n",
       "      <td>5</td>\n",
       "    </tr>\n",
       "    <tr>\n",
       "      <td>Industry SP</td>\n",
       "      <td>1.36</td>\n",
       "      <td>8</td>\n",
       "      <td>9</td>\n",
       "      <td>15</td>\n",
       "      <td>26</td>\n",
       "    </tr>\n",
       "    <tr>\n",
       "      <td>Betfair SP</td>\n",
       "      <td>1.37</td>\n",
       "      <td>9.23</td>\n",
       "      <td>11</td>\n",
       "      <td>18</td>\n",
       "      <td>48.52</td>\n",
       "    </tr>\n",
       "    <tr>\n",
       "      <td>IP Min</td>\n",
       "      <td>1.01</td>\n",
       "      <td>6.8</td>\n",
       "      <td>10.5</td>\n",
       "      <td>16</td>\n",
       "      <td>42</td>\n",
       "    </tr>\n",
       "    <tr>\n",
       "      <td>IP Max</td>\n",
       "      <td>1.38</td>\n",
       "      <td>1000</td>\n",
       "      <td>1000</td>\n",
       "      <td>800</td>\n",
       "      <td>1000</td>\n",
       "    </tr>\n",
       "    <tr>\n",
       "      <td>Pre Min</td>\n",
       "      <td>1.36</td>\n",
       "      <td>6.9</td>\n",
       "      <td>9.39</td>\n",
       "      <td>16</td>\n",
       "      <td>22.99</td>\n",
       "    </tr>\n",
       "    <tr>\n",
       "      <td>Pre Max</td>\n",
       "      <td>1.58</td>\n",
       "      <td>10.5</td>\n",
       "      <td>14</td>\n",
       "      <td>26.82</td>\n",
       "      <td>50</td>\n",
       "    </tr>\n",
       "    <tr>\n",
       "      <td>Pred Industry SP</td>\n",
       "      <td>0</td>\n",
       "      <td>0</td>\n",
       "      <td>0</td>\n",
       "      <td>0</td>\n",
       "      <td>0</td>\n",
       "    </tr>\n",
       "    <tr>\n",
       "      <td>Place</td>\n",
       "      <td>1</td>\n",
       "      <td>4</td>\n",
       "      <td>3</td>\n",
       "      <td>2</td>\n",
       "      <td>5</td>\n",
       "    </tr>\n",
       "    <tr>\n",
       "      <td>Winning Distance</td>\n",
       "      <td>NaN</td>\n",
       "      <td>NaN</td>\n",
       "      <td>NaN</td>\n",
       "      <td>NaN</td>\n",
       "      <td>NaN</td>\n",
       "    </tr>\n",
       "    <tr>\n",
       "      <td>Runners</td>\n",
       "      <td>7</td>\n",
       "      <td>7</td>\n",
       "      <td>7</td>\n",
       "      <td>7</td>\n",
       "      <td>7</td>\n",
       "    </tr>\n",
       "    <tr>\n",
       "      <td>SP Win Return</td>\n",
       "      <td>3.64</td>\n",
       "      <td>-10</td>\n",
       "      <td>-10</td>\n",
       "      <td>-10</td>\n",
       "      <td>-10</td>\n",
       "    </tr>\n",
       "    <tr>\n",
       "      <td>E/W return</td>\n",
       "      <td>0.91</td>\n",
       "      <td>-10</td>\n",
       "      <td>-10</td>\n",
       "      <td>35</td>\n",
       "      <td>-10</td>\n",
       "    </tr>\n",
       "    <tr>\n",
       "      <td>BF Win Return</td>\n",
       "      <td>3.7</td>\n",
       "      <td>-10</td>\n",
       "      <td>-10</td>\n",
       "      <td>-10</td>\n",
       "      <td>-10</td>\n",
       "    </tr>\n",
       "    <tr>\n",
       "      <td>minus</td>\n",
       "      <td>-</td>\n",
       "      <td>12</td>\n",
       "      <td>1</td>\n",
       "      <td>4</td>\n",
       "      <td>3</td>\n",
       "    </tr>\n",
       "    <tr>\n",
       "      <td>plus</td>\n",
       "      <td>1</td>\n",
       "      <td>-</td>\n",
       "      <td>-</td>\n",
       "      <td>-</td>\n",
       "      <td>-</td>\n",
       "    </tr>\n",
       "    <tr>\n",
       "      <td>percentage_minus</td>\n",
       "      <td>-</td>\n",
       "      <td>29.6</td>\n",
       "      <td>5.0</td>\n",
       "      <td>11.8</td>\n",
       "      <td>13.7</td>\n",
       "    </tr>\n",
       "    <tr>\n",
       "      <td>percentage_plus</td>\n",
       "      <td>2.6</td>\n",
       "      <td>-</td>\n",
       "      <td>-</td>\n",
       "      <td>-</td>\n",
       "      <td>-</td>\n",
       "    </tr>\n",
       "  </tbody>\n",
       "</table>\n",
       "</div>"
      ],
      "text/plain": [
       "                                0              1                 2  \\\n",
       "Date                   2010-02-20     2010-02-20        2010-02-20   \n",
       "Country                        GB             GB                GB   \n",
       "Track                       ASCOT          ASCOT             ASCOT   \n",
       "Going                         GTS            GTS               GTS   \n",
       "Type                       Hurdle         Hurdle            Hurdle   \n",
       "Distance                    2m3½f          2m3½f             2m3½f   \n",
       "Class                           3              3                 3   \n",
       "Time                       1:40pm         1:40pm            1:40pm   \n",
       "Stall                         NaN            NaN               NaN   \n",
       "Horse             FINIANS RAINBOW         SERETH  SPIRIT OF ADJISA   \n",
       "OR                              0              0                 0   \n",
       "Age                             7              7                 6   \n",
       "Pace                          NaN            NaN               NaN   \n",
       "Weight                       11-8           11-5              11-0   \n",
       "Jockey             Barry Geraghty   Paul Moloney   Robert Thornton   \n",
       "Trainer           Nicky Henderson  Barney Curley         Alan King   \n",
       "Head Gear                     NaN            NaN               NaN   \n",
       "SP Fav                          1              2                 3   \n",
       "Industry SP                  1.36              8                 9   \n",
       "Betfair SP                   1.37           9.23                11   \n",
       "IP Min                       1.01            6.8              10.5   \n",
       "IP Max                       1.38           1000              1000   \n",
       "Pre Min                      1.36            6.9              9.39   \n",
       "Pre Max                      1.58           10.5                14   \n",
       "Pred Industry SP                0              0                 0   \n",
       "Place                           1              4                 3   \n",
       "Winning Distance              NaN            NaN               NaN   \n",
       "Runners                         7              7                 7   \n",
       "SP Win Return                3.64            -10               -10   \n",
       "E/W return                   0.91            -10               -10   \n",
       "BF Win Return                 3.7            -10               -10   \n",
       "minus                           -             12                 1   \n",
       "plus                            1              -                 -   \n",
       "percentage_minus                -           29.6               5.0   \n",
       "percentage_plus               2.6              -                 -   \n",
       "\n",
       "                                3             4  \n",
       "Date                   2010-02-20    2010-02-20  \n",
       "Country                        GB            GB  \n",
       "Track                       ASCOT         ASCOT  \n",
       "Going                         GTS           GTS  \n",
       "Type                       Hurdle        Hurdle  \n",
       "Distance                    2m3½f         2m3½f  \n",
       "Class                           3             3  \n",
       "Time                       1:40pm        1:40pm  \n",
       "Stall                         NaN           NaN  \n",
       "Horse                      ARKOSE   PRIORS GLEN  \n",
       "OR                              0             0  \n",
       "Age                             6             6  \n",
       "Pace                          NaN           NaN  \n",
       "Weight                       11-5          11-0  \n",
       "Jockey            Leighton Aspell       R Walsh  \n",
       "Trainer           Oliver Sherwood  Emma Lavelle  \n",
       "Head Gear                     NaN           NaN  \n",
       "SP Fav                          4             5  \n",
       "Industry SP                    15            26  \n",
       "Betfair SP                     18         48.52  \n",
       "IP Min                         16            42  \n",
       "IP Max                        800          1000  \n",
       "Pre Min                        16         22.99  \n",
       "Pre Max                     26.82            50  \n",
       "Pred Industry SP                0             0  \n",
       "Place                           2             5  \n",
       "Winning Distance              NaN           NaN  \n",
       "Runners                         7             7  \n",
       "SP Win Return                 -10           -10  \n",
       "E/W return                     35           -10  \n",
       "BF Win Return                 -10           -10  \n",
       "minus                           4             3  \n",
       "plus                            -             -  \n",
       "percentage_minus             11.8          13.7  \n",
       "percentage_plus                 -             -  "
      ]
     },
     "execution_count": 8,
     "metadata": {},
     "output_type": "execute_result"
    }
   ],
   "source": [
    "df.head().T"
   ]
  },
  {
   "cell_type": "markdown",
   "metadata": {},
   "source": [
    "##### Compare public odds vs actual by breaking up into histograms"
   ]
  },
  {
   "cell_type": "code",
   "execution_count": 12,
   "metadata": {},
   "outputs": [
    {
     "name": "stderr",
     "output_type": "stream",
     "text": [
      "C:\\Users\\user\\Anaconda3\\lib\\site-packages\\ipykernel_launcher.py:2: SettingWithCopyWarning: \n",
      "A value is trying to be set on a copy of a slice from a DataFrame.\n",
      "Try using .loc[row_indexer,col_indexer] = value instead\n",
      "\n",
      "See the caveats in the documentation: http://pandas.pydata.org/pandas-docs/stable/user_guide/indexing.html#returning-a-view-versus-a-copy\n",
      "  \n",
      "C:\\Users\\user\\Anaconda3\\lib\\site-packages\\ipykernel_launcher.py:5: SettingWithCopyWarning: \n",
      "A value is trying to be set on a copy of a slice from a DataFrame.\n",
      "Try using .loc[row_indexer,col_indexer] = value instead\n",
      "\n",
      "See the caveats in the documentation: http://pandas.pydata.org/pandas-docs/stable/user_guide/indexing.html#returning-a-view-versus-a-copy\n",
      "  \"\"\"\n",
      "C:\\Users\\user\\Anaconda3\\lib\\site-packages\\ipykernel_launcher.py:7: SettingWithCopyWarning: \n",
      "A value is trying to be set on a copy of a slice from a DataFrame.\n",
      "Try using .loc[row_indexer,col_indexer] = value instead\n",
      "\n",
      "See the caveats in the documentation: http://pandas.pydata.org/pandas-docs/stable/user_guide/indexing.html#returning-a-view-versus-a-copy\n",
      "  import sys\n",
      "C:\\Users\\user\\Anaconda3\\lib\\site-packages\\ipykernel_launcher.py:8: SettingWithCopyWarning: \n",
      "A value is trying to be set on a copy of a slice from a DataFrame.\n",
      "Try using .loc[row_indexer,col_indexer] = value instead\n",
      "\n",
      "See the caveats in the documentation: http://pandas.pydata.org/pandas-docs/stable/user_guide/indexing.html#returning-a-view-versus-a-copy\n",
      "  \n"
     ]
    }
   ],
   "source": [
    "dfclean = df.loc[df['Betfair SP'] > 0]\n",
    "dfclean['prob'] = 1/dfclean['Betfair SP']\n",
    "\n",
    "nbuckets = 20\n",
    "dfclean['buckets'] = pd.cut(dfclean['prob'], nbuckets, labels=False) \n",
    "dictionary = dict(zip([i for i in range(nbuckets)], np.linspace(0,1, num = nbuckets)))\n",
    "dfclean['buckets'] = dfclean['buckets'].map(dictionary)\n",
    "dfclean['win'] = (dfclean['Place'] == '1')*1\n",
    "dfclean = dfclean.loc[dfclean.buckets < 0.6] # Only consider up to 0.6 implied odds. \n",
    "publicvsactual = dfclean.groupby(['buckets']).win.sum()/dfclean.groupby(['buckets']).win.count()"
   ]
  },
  {
   "cell_type": "markdown",
   "metadata": {},
   "source": [
    "##### Wow the public's estimate on average is pretty darn good!"
   ]
  },
  {
   "cell_type": "code",
   "execution_count": 13,
   "metadata": {},
   "outputs": [
    {
     "data": {
      "text/plain": [
       "[<matplotlib.lines.Line2D at 0x18a0badcd48>]"
      ]
     },
     "execution_count": 13,
     "metadata": {},
     "output_type": "execute_result"
    },
    {
     "data": {
      "image/png": "[encoded data removed]",
      "text/plain": [
       "<Figure size 432x288 with 1 Axes>"
      ]
     },
     "metadata": {
      "needs_background": "light"
     },
     "output_type": "display_data"
    }
   ],
   "source": [
    "plt.plot(publicvsactual)"
   ]
  },
  {
   "attachments": {},
   "cell_type": "markdown",
   "metadata": {},
   "source": [
    "The result above matches Benter, W (1994). So public estimate needs to be included as one of the covariates. \n",
    "Bear in mind this chart is only averaged out and likely has considerable variance which can be exploited."
   ]
  },
  {
   "cell_type": "code",
   "execution_count": null,
   "metadata": {},
   "outputs": [],
   "source": []
  },
  {
   "cell_type": "code",
   "execution_count": null,
   "metadata": {},
   "outputs": [],
   "source": []
  },
  {
   "cell_type": "code",
   "execution_count": 10,
   "metadata": {},
   "outputs": [],
   "source": [
    "def get_pct(price):\n",
    "    horse_pct = df_betfair.groupby(['EVENT_ID', 'SELECTION_NAME'])[price].sum()\n",
    "    horse_pct = horse_pct.groupby(['SELECTION_NAME']).mean()\n",
    "    \n",
    "    return horse_pct\n",
    "\n",
    "horse_ppwap_pct = get_pct('PPWAP')\n",
    "horse_bsp_pct = get_pct('BSP')\n",
    "\n",
    "horse_win_sum = df_betfair.groupby(['SELECTION_NAME'])['WIN_LOSE'].sum()\n",
    "horse_race_sum = df_betfair.groupby(['SELECTION_NAME'])['WIN_LOSE'].count()\n",
    "horse_win_pct = horse_win_sum/horse_race_sum\n",
    "\n",
    "# Only pick horses with 20 races or more\n",
    "horses_shortlist = horse_race_sum.loc[horse_race_sum > 20].keys()\n",
    "temp = pd.DataFrame([horse_win_pct.loc[horses_shortlist], horse_ppwap_pct.loc[horses_shortlist]]).T\n",
    "temp2 = pd.DataFrame([horse_win_pct.loc[horses_shortlist], horse_bsp_pct.loc[horses_shortlist]]).T"
   ]
  },
  {
   "cell_type": "code",
   "execution_count": 11,
   "metadata": {},
   "outputs": [
    {
     "data": {
      "text/plain": [
       "<matplotlib.axes._subplots.AxesSubplot at 0x1a65319f788>"
      ]
     },
     "execution_count": 11,
     "metadata": {},
     "output_type": "execute_result"
    },
    {
     "data": {
      "image/png": "[encoded data removed]",
      "text/plain": [
       "<Figure size 432x288 with 1 Axes>"
      ]
     },
     "metadata": {
      "needs_background": "light"
     },
     "output_type": "display_data"
    }
   ],
   "source": [
    "temp.plot.scatter('WIN_LOSE', 'PPWAP')"
   ]
  },
  {
   "cell_type": "code",
   "execution_count": 12,
   "metadata": {},
   "outputs": [
    {
     "data": {
      "text/plain": [
       "<matplotlib.axes._subplots.AxesSubplot at 0x1a6486a9588>"
      ]
     },
     "execution_count": 12,
     "metadata": {},
     "output_type": "execute_result"
    },
    {
     "data": {
      "image/png": "[encoded data removed]",
      "text/plain": [
       "<Figure size 432x288 with 1 Axes>"
      ]
     },
     "metadata": {
      "needs_background": "light"
     },
     "output_type": "display_data"
    }
   ],
   "source": [
    "temp2.plot.scatter('WIN_LOSE', 'BSP')"
   ]
  },
  {
   "cell_type": "code",
   "execution_count": null,
   "metadata": {},
   "outputs": [],
   "source": []
  }
 ],
 "metadata": {
  "kernelspec": {
   "display_name": "Python 3",
   "language": "python",
   "name": "python3"
  },
  "language_info": {
   "codemirror_mode": {
    "name": "ipython",
    "version": 3
   },
   "file_extension": ".py",
   "mimetype": "text/x-python",
   "name": "python",
   "nbconvert_exporter": "python",
   "pygments_lexer": "ipython3",
   "version": "3.7.4"
  }
 },
 "nbformat": 4,
 "nbformat_minor": 2
}
